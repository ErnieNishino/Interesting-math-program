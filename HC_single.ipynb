{
 "cells": [
  {
   "cell_type": "code",
   "execution_count": 1,
   "metadata": {},
   "outputs": [],
   "source": [
    "import numpy as np # linear algebra\n",
    "from scipy.cluster.hierarchy import dendrogram, linkage\n",
    "import matplotlib.pyplot as plt\n",
    "import math"
   ]
  },
  {
   "cell_type": "code",
   "execution_count": 2,
   "metadata": {},
   "outputs": [
    {
     "data": {
      "image/png": "[encoded data removed]",
      "text/plain": [
       "<Figure size 432x288 with 1 Axes>"
      ]
     },
     "metadata": {
      "needs_background": "light"
     },
     "output_type": "display_data"
    }
   ],
   "source": [
    "X = np.array([[5,3],\n",
    "    [10,15],\n",
    "    [15,12],\n",
    "    [24,10],\n",
    "    [30,30],\n",
    "    [85,70],\n",
    "    [71,80],\n",
    "    [60,78],\n",
    "    [70,55],\n",
    "    [80,91]])\n",
    "plt.figure()\n",
    "plt.scatter(X[:,0],X[:,1])\n",
    "plt.show()"
   ]
  },
  {
   "cell_type": "code",
   "execution_count": null,
   "metadata": {},
   "outputs": [],
   "source": []
  },
  {
   "cell_type": "code",
   "execution_count": 8,
   "metadata": {},
   "outputs": [],
   "source": [
    "def single_distance(clusters,cluster_num):\n",
    "    i=1\n",
    "    while len(clusters) is not cluster_num:       \n",
    "        closest_distance=clust_1=clust_2 = math.inf   #把初始最小距离设置成无穷大\n",
    "        for cluster_id, cluster in enumerate(clusters[:len(clusters)]): \n",
    "            for cluster2_id, cluster2 in enumerate(clusters[(cluster_id+1):]): #分别找到两个类\n",
    "                for point_id,point in enumerate(cluster): \n",
    "                    for point2_id, point2 in enumerate(cluster2):    #分别找到两个类中的点\n",
    "                        if np.linalg.norm(np.array(point)-np.array(point2)) < closest_distance:  #如果两点之间的欧氏距离小于最小距离，赋值给closet_distance\n",
    "                            closest_distance = np.linalg.norm(np.array(point)-np.array(point2))\n",
    "                            clust_1 = cluster_id\n",
    "                            clust_2 = cluster2_id+cluster_id+1 #这个类最后会与clust_1合并\n",
    "        print('Merge step:',i)\n",
    "        print('first cluster:',clusters[clust_1])\n",
    "        print('second cluster:',clusters[clust_2])\n",
    "        clusters[clust_1].extend(clusters[clust_2]) #clust_1,clust_2合并\n",
    "        del(clusters[clust_2])\n",
    "        i=i+1\n",
    "    return(clusters)\n",
    "\n",
    "def hierarchical(data, cluster_num):\n",
    "    # initialization of clusters at first (every point is a cluster)\n",
    "    init_clusters=[]\n",
    "    for i in range(len(data)):\n",
    "        init_clusters.append([[data[i,0],data[i,1]]])\n",
    "    print(init_clusters)\n",
    "    return single_distance(init_clusters, cluster_num)\n",
    "\n"
   ]
  },
  {
   "cell_type": "code",
   "execution_count": 9,
   "metadata": {},
   "outputs": [
    {
     "name": "stdout",
     "output_type": "stream",
     "text": [
      "[[[5, 3]], [[10, 15]], [[15, 12]], [[24, 10]], [[30, 30]], [[85, 70]], [[71, 80]], [[60, 78]], [[70, 55]], [[80, 91]]]\n",
      "Merge step: 1\n",
      "first cluster: [[10, 15]]\n",
      "second cluster: [[15, 12]]\n",
      "Merge step: 2\n",
      "first cluster: [[10, 15], [15, 12]]\n",
      "second cluster: [[24, 10]]\n",
      "Merge step: 3\n",
      "first cluster: [[71, 80]]\n",
      "second cluster: [[60, 78]]\n",
      "Merge step: 4\n",
      "first cluster: [[5, 3]]\n",
      "second cluster: [[10, 15], [15, 12], [24, 10]]\n",
      "Merge step: 5\n",
      "first cluster: [[71, 80], [60, 78]]\n",
      "second cluster: [[80, 91]]\n",
      "Merge step: 6\n",
      "first cluster: [[85, 70]]\n",
      "second cluster: [[71, 80], [60, 78], [80, 91]]\n",
      "Merge step: 7\n",
      "first cluster: [[5, 3], [10, 15], [15, 12], [24, 10]]\n",
      "second cluster: [[30, 30]]\n",
      "Merge step: 8\n",
      "first cluster: [[85, 70], [71, 80], [60, 78], [80, 91]]\n",
      "second cluster: [[70, 55]]\n"
     ]
    },
    {
     "data": {
      "image/png": "[encoded data removed]",
      "text/plain": [
       "<Figure size 432x288 with 1 Axes>"
      ]
     },
     "metadata": {
      "needs_background": "light"
     },
     "output_type": "display_data"
    }
   ],
   "source": [
    "clusters = hierarchical(X,2)\n",
    "colors = ['blue', 'red', 'purple', 'teal']\n",
    "for cluster_index, cluster in enumerate(clusters):\n",
    "    for point_index, point in enumerate(cluster):\n",
    "        plt.plot([point[0]], [point[1]], marker='o', markersize=3, color=colors[cluster_index])"
   ]
  },
  {
   "cell_type": "code",
   "execution_count": 12,
   "metadata": {},
   "outputs": [
    {
     "data": {
      "image/png": "[encoded data removed]",
      "text/plain": [
       "<Figure size 432x288 with 1 Axes>"
      ]
     },
     "metadata": {
      "needs_background": "light"
     },
     "output_type": "display_data"
    }
   ],
   "source": [
    "linked = linkage(X, 'single')\n",
    "\n",
    "labelList = range(1, 11)\n",
    "\n",
    "plt.figure()\n",
    "dendrogram(linked, labels=labelList)\n",
    "plt.show()"
   ]
  }
 ],
 "metadata": {
  "kernelspec": {
   "display_name": "Python 3 (ipykernel)",
   "language": "python",
   "name": "python3"
  },
  "language_info": {
   "codemirror_mode": {
    "name": "ipython",
    "version": 3
   },
   "file_extension": ".py",
   "mimetype": "text/x-python",
   "name": "python",
   "nbconvert_exporter": "python",
   "pygments_lexer": "ipython3",
   "version": "3.9.12"
  }
 },
 "nbformat": 4,
 "nbformat_minor": 2
}
